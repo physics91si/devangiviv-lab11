{
 "cells": [
  {
   "cell_type": "code",
   "execution_count": 3,
   "metadata": {
    "collapsed": false
   },
   "outputs": [
    {
     "name": "stdout",
     "output_type": "stream",
     "text": [
      "['a', 'b', 'c', 'd', 'e', 'f', 'g', 'h', 'i', 'j']\n",
      "['a', 'b', 'c', 'd', 'e', 'g', 'h', 'i', 'j']\n"
     ]
    }
   ],
   "source": [
    "import string\n",
    "alphabet = string.ascii_lowercase\n",
    "first_ten_abc = [c for c in alphabet[0:10]]\n",
    "print(first_ten_abc)\n",
    "first_ten_except_sixth = [c for c in alphabet if (alphabet.index(c) is not 5 and alphabet.index(c) < 10)]\n",
    "print(first_ten_except_sixth)"
   ]
  },
  {
   "cell_type": "code",
   "execution_count": 9,
   "metadata": {
    "collapsed": false
   },
   "outputs": [
    {
     "name": "stdout",
     "output_type": "stream",
     "text": [
      "None\n",
      "['a', 'aa', 'aaa', 'b', 'bb', 'bbb', 'c', 'cc', 'ccc', 'd', 'dd', 'ddd', 'e', 'ee', 'eee', 'g', 'gg', 'ggg', 'h', 'hh', 'hhh', 'i', 'ii', 'iii', 'j', 'jj', 'jjj']\n"
     ]
    }
   ],
   "source": [
    "first_ten_except_sixth_double = [c+c for c in alphabet if (alphabet.index(c) is not 5 and alphabet.index(c) < 10)]\n",
    "first_ten_except_sixth_triple = [c+c+c for c in alphabet if (alphabet.index(c) is not 5 and alphabet.index(c) < 10)]\n",
    "print((first_ten_except_sixth + first_ten_except_sixth_double + first_ten_except_sixth_triple).sort())\n",
    "sol.sort()\n",
    "print(sol)"
   ]
  },
  {
   "cell_type": "code",
   "execution_count": 12,
   "metadata": {
    "collapsed": false
   },
   "outputs": [
    {
     "name": "stdout",
     "output_type": "stream",
     "text": [
      "[['a', 'aa', 'aaa'], ['b', 'bb', 'bbb'], ['c', 'cc', 'ccc'], ['d', 'dd', 'ddd'], ['e', 'ee', 'eee'], ['g', 'gg', 'ggg'], ['h', 'hh', 'hhh'], ['i', 'ii', 'iii'], ['j', 'jj', 'jjj']]\n"
     ]
    }
   ],
   "source": [
    "first_ten_except_sixth_repeated_grid = [[c, c+c, c+c+c] for c in alphabet if (alphabet.index(c) is not 5 and alphabet.index(c) < 10)]\n",
    "print(first_ten_except_sixth_repeated_grid)"
   ]
  },
  {
   "cell_type": "code",
   "execution_count": 70,
   "metadata": {
    "collapsed": false
   },
   "outputs": [
    {
     "name": "stdout",
     "output_type": "stream",
     "text": [
      "['A', 'aa', 'aaa', 'b', 'B', 'bbb', 'c', 'cc', 'C', 'D', 'dd', 'ddd', 'e', 'E', 'eee', 'G', 'gg', 'ggg', 'h', 'H', 'hhh', 'i', 'ii', 'I', 'J', 'jj', 'jjj']\n",
      "[['A', 'aa', 'aaa'], ['b', 'B', 'bbb'], ['c', 'cc', 'C'], ['D', 'dd', 'ddd'], ['e', 'E', 'eee'], ['G', 'gg', 'ggg'], ['h', 'H', 'hhh'], ['i', 'ii', 'I'], ['J', 'jj', 'jjj']]\n"
     ]
    }
   ],
   "source": [
    "arr = first_ten_except_sixth_repeated_grid\n",
    "\n",
    "#unsuccessful attempts\n",
    "#first_ten_except_sixth_repeated_grid_cap = [[arr[i][i%3].capitalize()[:1], arr[i][i%3:][0]] for i in range(len(first_ten_except_sixth_repeated_grid))]\n",
    "#print(first_ten_except_sixth_repeated_grid_cap)\n",
    "#[[arr[i][j] if j%3 is not i else arr[i][j].capitalize()[:1]] for i in range(9) for j in range(2)]\n",
    "\n",
    "#ANDREW'S SOLUTION!\n",
    "sol = [str[0].upper() if (sublist.index(str) == alphabet.index(str[0]) % 3) else str for sublist in arr for str in sublist]\n",
    "print(sol)\n",
    "\n",
    "sol_final = [[sol[i], sol[i+1], sol[i+2]] for i in range(27) if i%3 == 0]\n",
    "print(sol_final)"
   ]
  },
  {
   "cell_type": "code",
   "execution_count": null,
   "metadata": {
    "collapsed": true
   },
   "outputs": [],
   "source": []
  }
 ],
 "metadata": {
  "kernelspec": {
   "display_name": "Python 3",
   "language": "python",
   "name": "python3"
  },
  "language_info": {
   "codemirror_mode": {
    "name": "ipython",
    "version": 3
   },
   "file_extension": ".py",
   "mimetype": "text/x-python",
   "name": "python",
   "nbconvert_exporter": "python",
   "pygments_lexer": "ipython3",
   "version": "3.5.1"
  }
 },
 "nbformat": 4,
 "nbformat_minor": 0
}
