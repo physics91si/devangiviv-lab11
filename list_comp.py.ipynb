{
 "cells": [
  {
   "cell_type": "code",
   "execution_count": 43,
   "metadata": {
    "collapsed": false
   },
   "outputs": [
    {
     "name": "stdout",
     "output_type": "stream",
     "text": [
      "['a', 'b', 'c', 'd', 'e', 'f', 'g', 'h', 'i', 'j']\n",
      "['a', 'b', 'c', 'd', 'e', 'g', 'h', 'i', 'j']\n"
     ]
    }
   ],
   "source": [
    "import string\n",
    "alphabet = string.ascii_lowercase\n",
    "first_ten_abx = [c for c in alphabet[0:10]]\n",
    "print(first_ten_abc)\n",
    "first_ten_except_sixth = [c for c in alphabet if (alphabet.index(c) is not 5 and alphabet.index(c) < 10)]\n",
    "print(first_ten_except_sixth)"
   ]
  },
  {
   "cell_type": "code",
   "execution_count": 49,
   "metadata": {
    "collapsed": false
   },
   "outputs": [
    {
     "name": "stdout",
     "output_type": "stream",
     "text": [
      "['a', 'aa', 'aaa', 'b', 'bb', 'bbb', 'c', 'cc', 'ccc', 'd', 'dd', 'ddd', 'e', 'ee', 'eee', 'g', 'gg', 'ggg', 'h', 'hh', 'hhh', 'i', 'ii', 'iii', 'j', 'jj', 'jjj']\n"
     ]
    }
   ],
   "source": [
    "first_ten_except_sixth_double = [c+c for c in alphabet if (alphabet.index(c) is not 5 and alphabet.index(c) < 10)]\n",
    "first_ten_except_sixth_triple = [c+c+c for c in alphabet if (alphabet.index(c) is not 5 and alphabet.index(c) < 10)]\n",
    "sol = first_ten_except_sixth + first_ten_except_sixth_double + first_ten_except_sixth_triple\n",
    "sol.sort()\n",
    "print(sol)"
   ]
  },
  {
   "cell_type": "code",
   "execution_count": 41,
   "metadata": {
    "collapsed": false
   },
   "outputs": [
    {
     "name": "stdout",
     "output_type": "stream",
     "text": [
      "[['a', 'aa', 'aaa'], ['b', 'bb', 'bbb'], ['c', 'cc', 'ccc'], ['d', 'dd', 'ddd'], ['e', 'ee', 'eee'], ['g', 'gg', 'ggg'], ['h', 'hh', 'hhh'], ['i', 'ii', 'iii'], ['j', 'jj', 'jjj']]\n"
     ]
    }
   ],
   "source": [
    "first_ten_except_sixth_repeated_grid = [[c, c+c, c+c+c] for c in alphabet if (alphabet.index(c) is not 5 and alphabet.index(c) < 10)]\n",
    "print(first_ten_except_sixth_repeated_grid)"
   ]
  },
  {
   "cell_type": "code",
   "execution_count": null,
   "metadata": {
    "collapsed": true
   },
   "outputs": [],
   "source": []
  }
 ],
 "metadata": {
  "kernelspec": {
   "display_name": "Python 3",
   "language": "python",
   "name": "python3"
  },
  "language_info": {
   "codemirror_mode": {
    "name": "ipython",
    "version": 3
   },
   "file_extension": ".py",
   "mimetype": "text/x-python",
   "name": "python",
   "nbconvert_exporter": "python",
   "pygments_lexer": "ipython3",
   "version": "3.5.1"
  }
 },
 "nbformat": 4,
 "nbformat_minor": 0
}
